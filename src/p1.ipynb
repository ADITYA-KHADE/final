{
 "cells": [
  {
   "cell_type": "code",
   "execution_count": 39,
   "metadata": {},
   "outputs": [
    {
     "name": "stdout",
     "output_type": "stream",
     "text": [
      "Defaulting to user installation because normal site-packages is not writeable\n",
      "Requirement already satisfied: torch in c:\\users\\aditya mohan khade\\appdata\\roaming\\python\\python310\\site-packages (2.6.0)\n",
      "Requirement already satisfied: transformers in c:\\users\\aditya mohan khade\\appdata\\roaming\\python\\python310\\site-packages (4.44.2)\n",
      "Requirement already satisfied: scikit-learn in c:\\users\\aditya mohan khade\\appdata\\roaming\\python\\python310\\site-packages (1.6.1)\n",
      "Requirement already satisfied: pandas in c:\\users\\aditya mohan khade\\appdata\\roaming\\python\\python310\\site-packages (2.2.3)\n",
      "Requirement already satisfied: numpy in c:\\users\\aditya mohan khade\\appdata\\roaming\\python\\python310\\site-packages (1.26.4)\n",
      "Requirement already satisfied: matplotlib in c:\\users\\aditya mohan khade\\appdata\\roaming\\python\\python310\\site-packages (3.10.0)\n",
      "Requirement already satisfied: seaborn in c:\\users\\aditya mohan khade\\appdata\\roaming\\python\\python310\\site-packages (0.12.2)\n",
      "Requirement already satisfied: tqdm in c:\\users\\aditya mohan khade\\appdata\\roaming\\python\\python310\\site-packages (4.67.1)\n",
      "Requirement already satisfied: nlpaug in c:\\users\\aditya mohan khade\\appdata\\roaming\\python\\python310\\site-packages (1.1.11)\n",
      "Requirement already satisfied: nltk in c:\\users\\aditya mohan khade\\appdata\\roaming\\python\\python310\\site-packages (3.9.1)\n",
      "Requirement already satisfied: datasets in c:\\users\\aditya mohan khade\\appdata\\roaming\\python\\python310\\site-packages (3.3.2)\n",
      "Requirement already satisfied: tf-keras in c:\\users\\aditya mohan khade\\appdata\\roaming\\python\\python310\\site-packages (2.18.0)\n",
      "Requirement already satisfied: accelerate in c:\\users\\aditya mohan khade\\appdata\\roaming\\python\\python310\\site-packages (1.4.0)\n",
      "Requirement already satisfied: filelock in c:\\users\\aditya mohan khade\\appdata\\roaming\\python\\python310\\site-packages (from torch) (3.16.1)\n",
      "Requirement already satisfied: typing-extensions>=4.10.0 in c:\\users\\aditya mohan khade\\appdata\\roaming\\python\\python310\\site-packages (from torch) (4.12.2)\n",
      "Requirement already satisfied: networkx in c:\\users\\aditya mohan khade\\appdata\\roaming\\python\\python310\\site-packages (from torch) (3.3)\n",
      "Requirement already satisfied: jinja2 in c:\\users\\aditya mohan khade\\appdata\\roaming\\python\\python310\\site-packages (from torch) (3.1.2)\n",
      "Requirement already satisfied: fsspec in c:\\users\\aditya mohan khade\\appdata\\roaming\\python\\python310\\site-packages (from torch) (2024.9.0)\n",
      "Requirement already satisfied: sympy==1.13.1 in c:\\users\\aditya mohan khade\\appdata\\roaming\\python\\python310\\site-packages (from torch) (1.13.1)\n",
      "Requirement already satisfied: mpmath<1.4,>=1.1.0 in c:\\users\\aditya mohan khade\\appdata\\roaming\\python\\python310\\site-packages (from sympy==1.13.1->torch) (1.3.0)\n",
      "Requirement already satisfied: huggingface-hub<1.0,>=0.23.2 in c:\\users\\aditya mohan khade\\appdata\\roaming\\python\\python310\\site-packages (from transformers) (0.25.1)\n",
      "Requirement already satisfied: packaging>=20.0 in c:\\users\\aditya mohan khade\\appdata\\roaming\\python\\python310\\site-packages (from transformers) (21.3)\n",
      "Requirement already satisfied: pyyaml>=5.1 in c:\\users\\aditya mohan khade\\appdata\\roaming\\python\\python310\\site-packages (from transformers) (6.0.2)\n",
      "Requirement already satisfied: regex!=2019.12.17 in c:\\users\\aditya mohan khade\\appdata\\roaming\\python\\python310\\site-packages (from transformers) (2024.9.11)\n",
      "Requirement already satisfied: requests in c:\\users\\aditya mohan khade\\appdata\\roaming\\python\\python310\\site-packages (from transformers) (2.32.3)\n",
      "Requirement already satisfied: safetensors>=0.4.1 in c:\\users\\aditya mohan khade\\appdata\\roaming\\python\\python310\\site-packages (from transformers) (0.4.5)\n",
      "Requirement already satisfied: tokenizers<0.20,>=0.19 in c:\\users\\aditya mohan khade\\appdata\\roaming\\python\\python310\\site-packages (from transformers) (0.19.1)\n",
      "Requirement already satisfied: scipy>=1.6.0 in c:\\users\\aditya mohan khade\\appdata\\roaming\\python\\python310\\site-packages (from scikit-learn) (1.10.1)\n",
      "Requirement already satisfied: joblib>=1.2.0 in c:\\users\\aditya mohan khade\\appdata\\roaming\\python\\python310\\site-packages (from scikit-learn) (1.4.2)\n",
      "Requirement already satisfied: threadpoolctl>=3.1.0 in c:\\users\\aditya mohan khade\\appdata\\roaming\\python\\python310\\site-packages (from scikit-learn) (3.5.0)\n",
      "Requirement already satisfied: python-dateutil>=2.8.2 in c:\\users\\aditya mohan khade\\appdata\\roaming\\python\\python310\\site-packages (from pandas) (2.8.2)\n",
      "Requirement already satisfied: pytz>=2020.1 in c:\\users\\aditya mohan khade\\appdata\\roaming\\python\\python310\\site-packages (from pandas) (2022.2.1)\n",
      "Requirement already satisfied: tzdata>=2022.7 in c:\\users\\aditya mohan khade\\appdata\\roaming\\python\\python310\\site-packages (from pandas) (2025.1)\n",
      "Requirement already satisfied: contourpy>=1.0.1 in c:\\users\\aditya mohan khade\\appdata\\roaming\\python\\python310\\site-packages (from matplotlib) (1.0.5)\n",
      "Requirement already satisfied: cycler>=0.10 in c:\\users\\aditya mohan khade\\appdata\\roaming\\python\\python310\\site-packages (from matplotlib) (0.11.0)\n",
      "Requirement already satisfied: fonttools>=4.22.0 in c:\\users\\aditya mohan khade\\appdata\\roaming\\python\\python310\\site-packages (from matplotlib) (4.37.2)\n",
      "Requirement already satisfied: kiwisolver>=1.3.1 in c:\\users\\aditya mohan khade\\appdata\\roaming\\python\\python310\\site-packages (from matplotlib) (1.4.4)\n",
      "Requirement already satisfied: pillow>=8 in c:\\users\\aditya mohan khade\\appdata\\roaming\\python\\python310\\site-packages (from matplotlib) (9.2.0)\n",
      "Requirement already satisfied: pyparsing>=2.3.1 in c:\\users\\aditya mohan khade\\appdata\\roaming\\python\\python310\\site-packages (from matplotlib) (3.0.9)\n",
      "Requirement already satisfied: colorama in c:\\users\\aditya mohan khade\\appdata\\roaming\\python\\python310\\site-packages (from tqdm) (0.4.6)\n",
      "Requirement already satisfied: gdown>=4.0.0 in c:\\users\\aditya mohan khade\\appdata\\roaming\\python\\python310\\site-packages (from nlpaug) (5.2.0)\n",
      "Requirement already satisfied: click in c:\\users\\aditya mohan khade\\appdata\\roaming\\python\\python310\\site-packages (from nltk) (8.1.3)\n",
      "Requirement already satisfied: pyarrow>=15.0.0 in c:\\users\\aditya mohan khade\\appdata\\roaming\\python\\python310\\site-packages (from datasets) (19.0.1)\n",
      "Requirement already satisfied: dill<0.3.9,>=0.3.0 in c:\\users\\aditya mohan khade\\appdata\\roaming\\python\\python310\\site-packages (from datasets) (0.3.8)\n",
      "Requirement already satisfied: xxhash in c:\\users\\aditya mohan khade\\appdata\\roaming\\python\\python310\\site-packages (from datasets) (3.5.0)\n",
      "Requirement already satisfied: multiprocess<0.70.17 in c:\\users\\aditya mohan khade\\appdata\\roaming\\python\\python310\\site-packages (from datasets) (0.70.16)\n",
      "Requirement already satisfied: aiohttp in c:\\users\\aditya mohan khade\\appdata\\roaming\\python\\python310\\site-packages (from datasets) (3.8.4)\n",
      "Requirement already satisfied: tensorflow<2.19,>=2.18 in c:\\users\\aditya mohan khade\\appdata\\roaming\\python\\python310\\site-packages (from tf-keras) (2.18.0)\n",
      "Requirement already satisfied: psutil in c:\\users\\aditya mohan khade\\appdata\\roaming\\python\\python310\\site-packages (from accelerate) (5.9.5)\n",
      "Requirement already satisfied: attrs>=17.3.0 in c:\\users\\aditya mohan khade\\appdata\\roaming\\python\\python310\\site-packages (from aiohttp->datasets) (23.1.0)\n",
      "Requirement already satisfied: charset-normalizer<4.0,>=2.0 in c:\\users\\aditya mohan khade\\appdata\\roaming\\python\\python310\\site-packages (from aiohttp->datasets) (3.1.0)\n",
      "Requirement already satisfied: multidict<7.0,>=4.5 in c:\\users\\aditya mohan khade\\appdata\\roaming\\python\\python310\\site-packages (from aiohttp->datasets) (6.0.4)\n",
      "Requirement already satisfied: async-timeout<5.0,>=4.0.0a3 in c:\\users\\aditya mohan khade\\appdata\\roaming\\python\\python310\\site-packages (from aiohttp->datasets) (4.0.2)\n",
      "Requirement already satisfied: yarl<2.0,>=1.0 in c:\\users\\aditya mohan khade\\appdata\\roaming\\python\\python310\\site-packages (from aiohttp->datasets) (1.9.2)\n",
      "Requirement already satisfied: frozenlist>=1.1.1 in c:\\users\\aditya mohan khade\\appdata\\roaming\\python\\python310\\site-packages (from aiohttp->datasets) (1.3.3)\n",
      "Requirement already satisfied: aiosignal>=1.1.2 in c:\\users\\aditya mohan khade\\appdata\\roaming\\python\\python310\\site-packages (from aiohttp->datasets) (1.3.1)\n",
      "Requirement already satisfied: beautifulsoup4 in c:\\users\\aditya mohan khade\\appdata\\roaming\\python\\python310\\site-packages (from gdown>=4.0.0->nlpaug) (4.12.2)\n",
      "Requirement already satisfied: six>=1.5 in c:\\users\\aditya mohan khade\\appdata\\roaming\\python\\python310\\site-packages (from python-dateutil>=2.8.2->pandas) (1.16.0)\n",
      "Requirement already satisfied: idna<4,>=2.5 in c:\\users\\aditya mohan khade\\appdata\\roaming\\python\\python310\\site-packages (from requests->transformers) (3.4)\n",
      "Requirement already satisfied: urllib3<3,>=1.21.1 in c:\\users\\aditya mohan khade\\appdata\\roaming\\python\\python310\\site-packages (from requests->transformers) (2.0.2)\n",
      "Requirement already satisfied: certifi>=2017.4.17 in c:\\users\\aditya mohan khade\\appdata\\roaming\\python\\python310\\site-packages (from requests->transformers) (2023.5.7)\n",
      "Requirement already satisfied: tensorflow-intel==2.18.0 in c:\\users\\aditya mohan khade\\appdata\\roaming\\python\\python310\\site-packages (from tensorflow<2.19,>=2.18->tf-keras) (2.18.0)\n",
      "Requirement already satisfied: absl-py>=1.0.0 in c:\\users\\aditya mohan khade\\appdata\\roaming\\python\\python310\\site-packages (from tensorflow-intel==2.18.0->tensorflow<2.19,>=2.18->tf-keras) (2.1.0)\n",
      "Requirement already satisfied: astunparse>=1.6.0 in c:\\users\\aditya mohan khade\\appdata\\roaming\\python\\python310\\site-packages (from tensorflow-intel==2.18.0->tensorflow<2.19,>=2.18->tf-keras) (1.6.3)\n",
      "Requirement already satisfied: flatbuffers>=24.3.25 in c:\\users\\aditya mohan khade\\appdata\\roaming\\python\\python310\\site-packages (from tensorflow-intel==2.18.0->tensorflow<2.19,>=2.18->tf-keras) (25.2.10)\n",
      "Requirement already satisfied: gast!=0.5.0,!=0.5.1,!=0.5.2,>=0.2.1 in c:\\users\\aditya mohan khade\\appdata\\roaming\\python\\python310\\site-packages (from tensorflow-intel==2.18.0->tensorflow<2.19,>=2.18->tf-keras) (0.6.0)\n",
      "Requirement already satisfied: google-pasta>=0.1.1 in c:\\users\\aditya mohan khade\\appdata\\roaming\\python\\python310\\site-packages (from tensorflow-intel==2.18.0->tensorflow<2.19,>=2.18->tf-keras) (0.2.0)\n",
      "Requirement already satisfied: libclang>=13.0.0 in c:\\users\\aditya mohan khade\\appdata\\roaming\\python\\python310\\site-packages (from tensorflow-intel==2.18.0->tensorflow<2.19,>=2.18->tf-keras) (18.1.1)\n",
      "Requirement already satisfied: opt-einsum>=2.3.2 in c:\\users\\aditya mohan khade\\appdata\\roaming\\python\\python310\\site-packages (from tensorflow-intel==2.18.0->tensorflow<2.19,>=2.18->tf-keras) (3.4.0)\n",
      "Requirement already satisfied: protobuf!=4.21.0,!=4.21.1,!=4.21.2,!=4.21.3,!=4.21.4,!=4.21.5,<6.0.0dev,>=3.20.3 in c:\\users\\aditya mohan khade\\appdata\\roaming\\python\\python310\\site-packages (from tensorflow-intel==2.18.0->tensorflow<2.19,>=2.18->tf-keras) (5.29.3)\n",
      "Requirement already satisfied: setuptools in c:\\program files\\python310\\lib\\site-packages (from tensorflow-intel==2.18.0->tensorflow<2.19,>=2.18->tf-keras) (63.2.0)\n",
      "Requirement already satisfied: termcolor>=1.1.0 in c:\\users\\aditya mohan khade\\appdata\\roaming\\python\\python310\\site-packages (from tensorflow-intel==2.18.0->tensorflow<2.19,>=2.18->tf-keras) (2.5.0)\n",
      "Requirement already satisfied: wrapt>=1.11.0 in c:\\users\\aditya mohan khade\\appdata\\roaming\\python\\python310\\site-packages (from tensorflow-intel==2.18.0->tensorflow<2.19,>=2.18->tf-keras) (1.16.0)\n",
      "Requirement already satisfied: grpcio<2.0,>=1.24.3 in c:\\users\\aditya mohan khade\\appdata\\roaming\\python\\python310\\site-packages (from tensorflow-intel==2.18.0->tensorflow<2.19,>=2.18->tf-keras) (1.70.0)\n",
      "Requirement already satisfied: tensorboard<2.19,>=2.18 in c:\\users\\aditya mohan khade\\appdata\\roaming\\python\\python310\\site-packages (from tensorflow-intel==2.18.0->tensorflow<2.19,>=2.18->tf-keras) (2.18.0)\n",
      "Requirement already satisfied: keras>=3.5.0 in c:\\users\\aditya mohan khade\\appdata\\roaming\\python\\python310\\site-packages (from tensorflow-intel==2.18.0->tensorflow<2.19,>=2.18->tf-keras) (3.8.0)\n",
      "Requirement already satisfied: h5py>=3.11.0 in c:\\users\\aditya mohan khade\\appdata\\roaming\\python\\python310\\site-packages (from tensorflow-intel==2.18.0->tensorflow<2.19,>=2.18->tf-keras) (3.13.0)\n",
      "Requirement already satisfied: ml-dtypes<0.5.0,>=0.4.0 in c:\\users\\aditya mohan khade\\appdata\\roaming\\python\\python310\\site-packages (from tensorflow-intel==2.18.0->tensorflow<2.19,>=2.18->tf-keras) (0.4.1)\n",
      "Requirement already satisfied: tensorflow-io-gcs-filesystem>=0.23.1 in c:\\users\\aditya mohan khade\\appdata\\roaming\\python\\python310\\site-packages (from tensorflow-intel==2.18.0->tensorflow<2.19,>=2.18->tf-keras) (0.31.0)\n",
      "Requirement already satisfied: MarkupSafe>=2.0 in c:\\users\\aditya mohan khade\\appdata\\roaming\\python\\python310\\site-packages (from jinja2->torch) (2.1.2)\n",
      "Requirement already satisfied: soupsieve>1.2 in c:\\users\\aditya mohan khade\\appdata\\roaming\\python\\python310\\site-packages (from beautifulsoup4->gdown>=4.0.0->nlpaug) (2.4.1)\n",
      "Requirement already satisfied: PySocks!=1.5.7,>=1.5.6 in c:\\users\\aditya mohan khade\\appdata\\roaming\\python\\python310\\site-packages (from requests[socks]->gdown>=4.0.0->nlpaug) (1.7.1)\n",
      "Requirement already satisfied: wheel<1.0,>=0.23.0 in c:\\users\\aditya mohan khade\\appdata\\roaming\\python\\python310\\site-packages (from astunparse>=1.6.0->tensorflow-intel==2.18.0->tensorflow<2.19,>=2.18->tf-keras) (0.45.1)\n",
      "Requirement already satisfied: rich in c:\\users\\aditya mohan khade\\appdata\\roaming\\python\\python310\\site-packages (from keras>=3.5.0->tensorflow-intel==2.18.0->tensorflow<2.19,>=2.18->tf-keras) (13.8.1)\n",
      "Requirement already satisfied: namex in c:\\users\\aditya mohan khade\\appdata\\roaming\\python\\python310\\site-packages (from keras>=3.5.0->tensorflow-intel==2.18.0->tensorflow<2.19,>=2.18->tf-keras) (0.0.8)\n",
      "Requirement already satisfied: optree in c:\\users\\aditya mohan khade\\appdata\\roaming\\python\\python310\\site-packages (from keras>=3.5.0->tensorflow-intel==2.18.0->tensorflow<2.19,>=2.18->tf-keras) (0.14.0)\n",
      "Requirement already satisfied: markdown>=2.6.8 in c:\\users\\aditya mohan khade\\appdata\\roaming\\python\\python310\\site-packages (from tensorboard<2.19,>=2.18->tensorflow-intel==2.18.0->tensorflow<2.19,>=2.18->tf-keras) (3.7)\n",
      "Requirement already satisfied: tensorboard-data-server<0.8.0,>=0.7.0 in c:\\users\\aditya mohan khade\\appdata\\roaming\\python\\python310\\site-packages (from tensorboard<2.19,>=2.18->tensorflow-intel==2.18.0->tensorflow<2.19,>=2.18->tf-keras) (0.7.2)\n",
      "Requirement already satisfied: werkzeug>=1.0.1 in c:\\users\\aditya mohan khade\\appdata\\roaming\\python\\python310\\site-packages (from tensorboard<2.19,>=2.18->tensorflow-intel==2.18.0->tensorflow<2.19,>=2.18->tf-keras) (2.3.4)\n",
      "Requirement already satisfied: markdown-it-py>=2.2.0 in c:\\users\\aditya mohan khade\\appdata\\roaming\\python\\python310\\site-packages (from rich->keras>=3.5.0->tensorflow-intel==2.18.0->tensorflow<2.19,>=2.18->tf-keras) (3.0.0)\n",
      "Requirement already satisfied: pygments<3.0.0,>=2.13.0 in c:\\users\\aditya mohan khade\\appdata\\roaming\\python\\python310\\site-packages (from rich->keras>=3.5.0->tensorflow-intel==2.18.0->tensorflow<2.19,>=2.18->tf-keras) (2.15.1)\n",
      "Requirement already satisfied: mdurl~=0.1 in c:\\users\\aditya mohan khade\\appdata\\roaming\\python\\python310\\site-packages (from markdown-it-py>=2.2.0->rich->keras>=3.5.0->tensorflow-intel==2.18.0->tensorflow<2.19,>=2.18->tf-keras) (0.1.2)\n",
      "Note: you may need to restart the kernel to use updated packages.\n"
     ]
    }
   ],
   "source": [
    "%pip install torch transformers scikit-learn pandas numpy matplotlib seaborn tqdm nlpaug nltk datasets tf-keras accelerate"
   ]
  },
  {
   "cell_type": "code",
   "execution_count": 40,
   "metadata": {},
   "outputs": [
    {
     "name": "stdout",
     "output_type": "stream",
     "text": [
      "   Unnamed: 0  count  hate_speech  offensive_language  neither  class  \\\n",
      "0           0      3            0                   0        3      2   \n",
      "1           1      3            0                   3        0      1   \n",
      "2           2      3            0                   3        0      1   \n",
      "3           3      3            0                   2        1      1   \n",
      "4           4      6            0                   6        0      1   \n",
      "\n",
      "                                               tweet  \n",
      "0  !!! RT @mayasolovely: As a woman you shouldn't...  \n",
      "1  !!!!! RT @mleew17: boy dats cold...tyga dwn ba...  \n",
      "2  !!!!!!! RT @UrKindOfBrand Dawg!!!! RT @80sbaby...  \n",
      "3  !!!!!!!!! RT @C_G_Anderson: @viva_based she lo...  \n",
      "4  !!!!!!!!!!!!! RT @ShenikaRoberts: The shit you...  \n",
      "<class 'pandas.core.frame.DataFrame'>\n",
      "RangeIndex: 100 entries, 0 to 99\n",
      "Data columns (total 7 columns):\n",
      " #   Column              Non-Null Count  Dtype \n",
      "---  ------              --------------  ----- \n",
      " 0   Unnamed: 0          100 non-null    int64 \n",
      " 1   count               100 non-null    int64 \n",
      " 2   hate_speech         100 non-null    int64 \n",
      " 3   offensive_language  100 non-null    int64 \n",
      " 4   neither             100 non-null    int64 \n",
      " 5   class               100 non-null    int64 \n",
      " 6   tweet               100 non-null    object\n",
      "dtypes: int64(6), object(1)\n",
      "memory usage: 5.6+ KB\n",
      "None\n",
      "       Unnamed: 0       count  hate_speech  offensive_language     neither  \\\n",
      "count  100.000000  100.000000   100.000000          100.000000  100.000000   \n",
      "mean    49.640000    3.120000     0.210000            2.660000    0.250000   \n",
      "std     29.222421    0.728635     0.498381            0.976698    0.687184   \n",
      "min      0.000000    3.000000     0.000000            0.000000    0.000000   \n",
      "25%     24.750000    3.000000     0.000000            2.000000    0.000000   \n",
      "50%     49.500000    3.000000     0.000000            3.000000    0.000000   \n",
      "75%     74.250000    3.000000     0.000000            3.000000    0.000000   \n",
      "max    100.000000    9.000000     3.000000            7.000000    3.000000   \n",
      "\n",
      "            class  \n",
      "count  100.000000  \n",
      "mean     1.050000  \n",
      "std      0.297294  \n",
      "min      0.000000  \n",
      "25%      1.000000  \n",
      "50%      1.000000  \n",
      "75%      1.000000  \n",
      "max      2.000000  \n",
      "Unnamed: 0            0\n",
      "count                 0\n",
      "hate_speech           0\n",
      "offensive_language    0\n",
      "neither               0\n",
      "class                 0\n",
      "tweet                 0\n",
      "dtype: int64\n",
      "label\n",
      "0    98\n",
      "1     2\n",
      "Name: count, dtype: int64\n",
      "label\n",
      "0    98\n",
      "1    98\n",
      "Name: count, dtype: int64\n"
     ]
    },
    {
     "name": "stderr",
     "output_type": "stream",
     "text": [
      "C:\\Users\\Aditya Mohan Khade\\AppData\\Roaming\\Python\\Python310\\site-packages\\transformers\\tokenization_utils_base.py:1601: FutureWarning: `clean_up_tokenization_spaces` was not set. It will be set to `True` by default. This behavior will be depracted in transformers v4.45, and will be then set to `False` by default. For more details check this issue: https://github.com/huggingface/transformers/issues/31884\n",
      "  warnings.warn(\n"
     ]
    }
   ],
   "source": [
    "# Data Loading and Inspection\n",
    "import pandas as pd\n",
    "import numpy as np\n",
    "import torch\n",
    "from torch.utils.data import Dataset, DataLoader\n",
    "from transformers import BertTokenizer, BertForSequenceClassification, Trainer, TrainingArguments\n",
    "from sklearn.model_selection import train_test_split\n",
    "from sklearn.metrics import classification_report\n",
    "from sklearn.utils import resample\n",
    "import re\n",
    "import string\n",
    "from nlpaug.augmenter.word import SynonymAug\n",
    "import matplotlib.pyplot as plt\n",
    "import seaborn as sns\n",
    "\n",
    "# Load the dataset\n",
    "data_path = '../../Data/Dataset_2.csv'\n",
    "df = pd.read_csv(data_path, encoding='latin1', delimiter=',', quotechar='\"')\n",
    "\n",
    "# Inspect the dataset\n",
    "print(df.head())\n",
    "print(df.info())\n",
    "print(df.describe())\n",
    "\n",
    "# Check for missing values\n",
    "print(df.isnull().sum())\n",
    "\n",
    "# Drop rows with missing values\n",
    "df.dropna(subset=['tweet'], inplace=True)\n",
    "\n",
    "# Map classes to binary labels\n",
    "df['label'] = df['class'].apply(lambda x: 1 if x == 0 else 0)  # 1: Hate Speech, 0: Non-Hate Speech\n",
    "\n",
    "# Drop unnecessary columns\n",
    "df = df[['tweet', 'label']]\n",
    "\n",
    "# Check class distribution\n",
    "print(df['label'].value_counts())\n",
    "\n",
    "# Data Preprocessing\n",
    "# Check your preprocessing function\n",
    "def preprocess_text(text):\n",
    "    # Make sure this function matches EXACTLY what you used during training\n",
    "    text = re.sub(r'http\\S+', '', text)\n",
    "    text = re.sub(r'@\\w+', '', text)\n",
    "    text = re.sub(r'#\\w+', '', text)\n",
    "    text = re.sub(r'\\d+', '', text)\n",
    "    text = text.translate(str.maketrans('', '', string.punctuation))\n",
    "    text = text.lower()\n",
    "    return text\n",
    "\n",
    "df['clean_tweet'] = df['tweet'].apply(preprocess_text)\n",
    "\n",
    "# Separate majority and minority classes\n",
    "df_majority = df[df.label == 0]\n",
    "df_minority = df[df.label == 1]\n",
    "\n",
    "# For upsampling the minority class (recommended when data is limited)\n",
    "df_minority_upsampled = resample(df_minority, \n",
    "                               replace=True,     \n",
    "                               n_samples=len(df_majority),    \n",
    "                               random_state=42)  \n",
    "df_balanced = pd.concat([df_majority, df_minority_upsampled])\n",
    "\n",
    "# Verify balanced class distribution\n",
    "print(df_balanced['label'].value_counts())\n",
    "\n",
    "# Tokenization\n",
    "# Initialize tokenizer\n",
    "tokenizer = BertTokenizer.from_pretrained('bert-base-uncased')\n",
    "\n",
    "# Function to tokenize and encode data\n",
    "def encode_data(texts, tokenizer, max_length=128):\n",
    "    encodings = tokenizer(list(texts), truncation=True, padding=True, max_length=max_length, return_tensors='pt')\n",
    "    return encodings\n",
    "\n",
    "# Encode training and testing data\n",
    "train_texts, val_texts, train_labels, val_labels = train_test_split(\n",
    "    df_balanced['clean_tweet'], df_balanced['label'], test_size=0.2, random_state=42, stratify=df_balanced['label']\n",
    ")\n",
    "\n",
    "train_encodings = encode_data(train_texts, tokenizer)\n",
    "val_encodings = encode_data(val_texts, tokenizer)\n",
    "\n",
    "# Dataset Creation for BERT\n",
    "class HateSpeechDataset(Dataset):\n",
    "    def __init__(self, encodings, labels):\n",
    "        self.encodings = encodings\n",
    "        self.labels = labels\n",
    "\n",
    "    def __len__(self):\n",
    "        return len(self.labels)\n",
    "\n",
    "    def __getitem__(self, idx):\n",
    "        item = {key: val[idx] for key, val in self.encodings.items()}\n",
    "        item['labels'] = torch.tensor(self.labels.iloc[idx], dtype=torch.long)\n",
    "        return item\n",
    "\n",
    "# Create datasets\n",
    "train_dataset = HateSpeechDataset(train_encodings, train_labels)\n",
    "val_dataset = HateSpeechDataset(val_encodings, val_labels)"
   ]
  },
  {
   "cell_type": "code",
   "execution_count": 41,
   "metadata": {},
   "outputs": [
    {
     "name": "stderr",
     "output_type": "stream",
     "text": [
      "Some weights of BertForSequenceClassification were not initialized from the model checkpoint at bert-base-uncased and are newly initialized: ['classifier.bias', 'classifier.weight']\n",
      "You should probably TRAIN this model on a down-stream task to be able to use it for predictions and inference.\n",
      "C:\\Users\\Aditya Mohan Khade\\AppData\\Roaming\\Python\\Python310\\site-packages\\transformers\\training_args.py:1525: FutureWarning: `evaluation_strategy` is deprecated and will be removed in version 4.46 of 🤗 Transformers. Use `eval_strategy` instead\n",
      "  warnings.warn(\n",
      " 10%|█         | 10/100 [00:38<04:50,  3.22s/it]\n",
      " 10%|█         | 10/100 [00:40<04:50,  3.22s/it]"
     ]
    },
    {
     "name": "stdout",
     "output_type": "stream",
     "text": [
      "{'eval_loss': 0.31874880194664, 'eval_runtime': 1.1731, 'eval_samples_per_second': 34.098, 'eval_steps_per_second': 2.557, 'epoch': 1.0}\n"
     ]
    },
    {
     "name": "stderr",
     "output_type": "stream",
     "text": [
      " 20%|██        | 20/100 [01:08<03:26,  2.58s/it]\n",
      " 20%|██        | 20/100 [01:09<03:26,  2.58s/it]"
     ]
    },
    {
     "name": "stdout",
     "output_type": "stream",
     "text": [
      "{'eval_loss': 0.09574200958013535, 'eval_runtime': 0.9606, 'eval_samples_per_second': 41.642, 'eval_steps_per_second': 3.123, 'epoch': 2.0}\n"
     ]
    },
    {
     "name": "stderr",
     "output_type": "stream",
     "text": [
      " 30%|███       | 30/100 [01:35<02:54,  2.50s/it]\n",
      " 30%|███       | 30/100 [01:36<02:54,  2.50s/it]"
     ]
    },
    {
     "name": "stdout",
     "output_type": "stream",
     "text": [
      "{'eval_loss': 0.010865624994039536, 'eval_runtime': 0.9663, 'eval_samples_per_second': 41.394, 'eval_steps_per_second': 3.105, 'epoch': 3.0}\n"
     ]
    },
    {
     "name": "stderr",
     "output_type": "stream",
     "text": [
      " 40%|████      | 40/100 [02:02<02:29,  2.50s/it]\n",
      " 40%|████      | 40/100 [02:03<02:29,  2.50s/it]"
     ]
    },
    {
     "name": "stdout",
     "output_type": "stream",
     "text": [
      "{'eval_loss': 0.001685402006842196, 'eval_runtime': 0.96, 'eval_samples_per_second': 41.668, 'eval_steps_per_second': 3.125, 'epoch': 4.0}\n"
     ]
    },
    {
     "name": "stderr",
     "output_type": "stream",
     "text": [
      " 50%|█████     | 50/100 [02:28<02:02,  2.44s/it]\n",
      " 50%|█████     | 50/100 [02:29<02:02,  2.44s/it]"
     ]
    },
    {
     "name": "stdout",
     "output_type": "stream",
     "text": [
      "{'eval_loss': 0.0006598980398848653, 'eval_runtime': 0.9346, 'eval_samples_per_second': 42.797, 'eval_steps_per_second': 3.21, 'epoch': 5.0}\n"
     ]
    },
    {
     "name": "stderr",
     "output_type": "stream",
     "text": [
      " 60%|██████    | 60/100 [02:55<01:38,  2.47s/it]\n",
      " 60%|██████    | 60/100 [02:56<01:38,  2.47s/it]"
     ]
    },
    {
     "name": "stdout",
     "output_type": "stream",
     "text": [
      "{'eval_loss': 0.0004036347381770611, 'eval_runtime': 0.9844, 'eval_samples_per_second': 40.633, 'eval_steps_per_second': 3.048, 'epoch': 6.0}\n"
     ]
    },
    {
     "name": "stderr",
     "output_type": "stream",
     "text": [
      " 70%|███████   | 70/100 [03:21<01:13,  2.47s/it]\n",
      " 70%|███████   | 70/100 [03:22<01:13,  2.47s/it]"
     ]
    },
    {
     "name": "stdout",
     "output_type": "stream",
     "text": [
      "{'eval_loss': 0.000332543917465955, 'eval_runtime': 0.9639, 'eval_samples_per_second': 41.498, 'eval_steps_per_second': 3.112, 'epoch': 7.0}\n"
     ]
    },
    {
     "name": "stderr",
     "output_type": "stream",
     "text": [
      " 80%|████████  | 80/100 [03:48<00:49,  2.47s/it]\n",
      " 80%|████████  | 80/100 [03:49<00:49,  2.47s/it]"
     ]
    },
    {
     "name": "stdout",
     "output_type": "stream",
     "text": [
      "{'eval_loss': 0.0003006923361681402, 'eval_runtime': 0.9529, 'eval_samples_per_second': 41.977, 'eval_steps_per_second': 3.148, 'epoch': 8.0}\n"
     ]
    },
    {
     "name": "stderr",
     "output_type": "stream",
     "text": [
      " 90%|█████████ | 90/100 [04:14<00:24,  2.45s/it]\n",
      " 90%|█████████ | 90/100 [04:15<00:24,  2.45s/it]"
     ]
    },
    {
     "name": "stdout",
     "output_type": "stream",
     "text": [
      "{'eval_loss': 0.00028606070554815233, 'eval_runtime': 0.9904, 'eval_samples_per_second': 40.388, 'eval_steps_per_second': 3.029, 'epoch': 9.0}\n"
     ]
    },
    {
     "name": "stderr",
     "output_type": "stream",
     "text": [
      "100%|██████████| 100/100 [04:41<00:00,  2.48s/it]\n",
      "100%|██████████| 100/100 [04:43<00:00,  2.84s/it]\n"
     ]
    },
    {
     "name": "stdout",
     "output_type": "stream",
     "text": [
      "{'eval_loss': 0.00028096893220208585, 'eval_runtime': 1.0171, 'eval_samples_per_second': 39.329, 'eval_steps_per_second': 2.95, 'epoch': 10.0}\n",
      "{'train_runtime': 283.8578, 'train_samples_per_second': 5.496, 'train_steps_per_second': 0.352, 'train_loss': 0.08058684349060058, 'epoch': 10.0}\n"
     ]
    },
    {
     "name": "stderr",
     "output_type": "stream",
     "text": [
      "100%|██████████| 3/3 [00:02<00:00,  1.14it/s]\n"
     ]
    },
    {
     "name": "stdout",
     "output_type": "stream",
     "text": [
      "{'eval_loss': 0.0, 'eval_runtime': 4.4536, 'eval_samples_per_second': 8.981, 'eval_steps_per_second': 0.674, 'epoch': 10.0}\n"
     ]
    },
    {
     "name": "stderr",
     "output_type": "stream",
     "text": [
      "100%|██████████| 3/3 [00:02<00:00,  1.15it/s]"
     ]
    },
    {
     "name": "stdout",
     "output_type": "stream",
     "text": [
      "                 precision    recall  f1-score   support\n",
      "\n",
      "Non-Hate Speech       1.00      1.00      1.00        20\n",
      "    Hate Speech       1.00      1.00      1.00        20\n",
      "\n",
      "       accuracy                           1.00        40\n",
      "      macro avg       1.00      1.00      1.00        40\n",
      "   weighted avg       1.00      1.00      1.00        40\n",
      "\n"
     ]
    },
    {
     "name": "stderr",
     "output_type": "stream",
     "text": [
      "\n"
     ]
    }
   ],
   "source": [
    "# BERT Model Training\n",
    "# Initialize model\n",
    "model_bert = BertForSequenceClassification.from_pretrained('bert-base-uncased', num_labels=2, use_cache=False, gradient_checkpointing=True)\n",
    "\n",
    "# Define training arguments\n",
    "training_args_bert = TrainingArguments(\n",
    "    output_dir='./results_bert',\n",
    "    evaluation_strategy='epoch',\n",
    "    per_device_train_batch_size=16,\n",
    "    per_device_eval_batch_size=16,\n",
    "    num_train_epochs=10,\n",
    "    weight_decay=0.01,\n",
    "    logging_dir='./logs',\n",
    "    fp16=True, \n",
    "    fp16_full_eval=True,\n",
    ")\n",
    "\n",
    "# Initialize trainer\n",
    "trainer_bert = Trainer(\n",
    "    model=model_bert,\n",
    "    args=training_args_bert,\n",
    "    train_dataset=train_dataset,\n",
    "    eval_dataset=val_dataset,\n",
    ")\n",
    "\n",
    "# Train the model\n",
    "trainer_bert.train()\n",
    "\n",
    "# Evaluate the model\n",
    "results_bert = trainer_bert.evaluate()\n",
    "print(results_bert)\n",
    "\n",
    "# BERT Model Evaluation\n",
    "# Predict on validation set\n",
    "predictions_bert = trainer_bert.predict(val_dataset)\n",
    "pred_labels_bert = predictions_bert.predictions.argmax(-1)\n",
    "\n",
    "# Generate classification report\n",
    "print(classification_report(val_labels, pred_labels_bert, target_names=['Non-Hate Speech', 'Hate Speech']))\n"
   ]
  },
  {
   "cell_type": "code",
   "execution_count": 42,
   "metadata": {},
   "outputs": [],
   "source": [
    "# LSTM + CNN Model Definition\n",
    "import torch.nn as nn\n",
    "import torch.nn.functional as F\n",
    "\n",
    "class LSTM_CNN(nn.Module):\n",
    "    def __init__(self, vocab_size, embed_dim, lstm_hidden_dim, cnn_hidden_dim, num_classes, dropout=0.5):\n",
    "        super(LSTM_CNN, self).__init__()\n",
    "        self.embedding = nn.Embedding(vocab_size, embed_dim, padding_idx=0)\n",
    "        self.lstm = nn.LSTM(embed_dim, lstm_hidden_dim, batch_first=True, bidirectional=True)\n",
    "        self.conv1d = nn.Conv1d(lstm_hidden_dim*2, cnn_hidden_dim, kernel_size=3, padding=1)\n",
    "        self.pool = nn.AdaptiveMaxPool1d(1)\n",
    "        self.dropout = nn.Dropout(dropout)\n",
    "        self.fc = nn.Linear(cnn_hidden_dim, num_classes)\n",
    "    \n",
    "    def forward(self, x):\n",
    "        # Handle both float and long inputs\n",
    "        if x.dtype == torch.float32:\n",
    "            x = x.long()\n",
    "        \n",
    "        # Embedding layer\n",
    "        embedded = self.embedding(x)  # [batch_size, seq_len, embed_dim]\n",
    "        \n",
    "        # LSTM layer\n",
    "        lstm_out, _ = self.lstm(embedded)  # [batch_size, seq_len, lstm_hidden_dim*2]\n",
    "        \n",
    "        # Reshape for CNN: [batch_size, lstm_hidden_dim*2, seq_len]\n",
    "        lstm_out = lstm_out.permute(0, 2, 1)\n",
    "        \n",
    "        # Apply CNN\n",
    "        conv_out = F.relu(self.conv1d(lstm_out))  # [batch_size, cnn_hidden_dim, seq_len]\n",
    "        \n",
    "        # Pooling\n",
    "        pooled = self.pool(conv_out).squeeze(-1)  # [batch_size, cnn_hidden_dim]\n",
    "        \n",
    "        # Dropout and final classification\n",
    "        dropped = self.dropout(pooled)\n",
    "        output = self.fc(dropped)  # [batch_size, num_classes]\n",
    "        \n",
    "        return output"
   ]
  },
  {
   "cell_type": "code",
   "execution_count": 43,
   "metadata": {},
   "outputs": [],
   "source": [
    "# Vocabulary Building and Text Sequencing\n",
    "from collections import Counter\n",
    "\n",
    "# Build vocabulary\n",
    "def build_vocab(texts, max_vocab_size=10000):\n",
    "    counter = Counter()\n",
    "    for text in texts:\n",
    "        tokens = text.split()  # Simple whitespace-based tokenization\n",
    "        counter.update(tokens)\n",
    "    vocab = {word: idx + 1 for idx, (word, _) in enumerate(counter.most_common(max_vocab_size))}\n",
    "    vocab[' '] = 0  # Padding token\n",
    "    return vocab\n",
    "\n",
    "# Convert text to sequences\n",
    "def text_to_sequence(text, vocab, max_len=100):\n",
    "    tokens = text.split()\n",
    "    sequence = [vocab.get(token, 0) for token in tokens]  # Use 0 for unknown tokens\n",
    "    sequence = sequence[:max_len]  # Truncate if longer than max_len \n",
    "    sequence += [0] * (max_len - len(sequence))  # Pad if shorter than max_len\n",
    "    return sequence\n",
    "\n",
    "# Build vocabulary from the dataset\n",
    "vocab = build_vocab(df_balanced['clean_tweet'], max_vocab_size=10000)\n",
    "\n",
    "# Convert all texts to sequences\n",
    "X_sequences = [text_to_sequence(text, vocab, max_len=100) for text in df_balanced['clean_tweet']]\n",
    "X_sequences = torch.tensor(X_sequences, dtype=torch.long)\n",
    "\n",
    "\n",
    "# Split data (convert labels to NumPy array)\n",
    "X_train, X_val, y_train, y_val = train_test_split(\n",
    "    X_sequences, \n",
    "    df_balanced['label'].values,  # Convert to NumPy array\n",
    "    test_size=0.2, \n",
    "    random_state=42, \n",
    "    stratify=df_balanced['label']\n",
    ")\n",
    "\n",
    "# Create datasets for LSTM + CNN\n",
    "class HateSpeechDatasetLSTM_CNN(Dataset):\n",
    "    def __init__(self, sequences, labels):\n",
    "        self.sequences = sequences\n",
    "        # Convert labels to a numpy array if it's a pandas Series\n",
    "        self.labels = torch.tensor(labels.to_numpy() if isinstance(labels, pd.Series) else labels)\n",
    "    \n",
    "    def __len__(self):\n",
    "        return len(self.sequences)\n",
    "    \n",
    "    def __getitem__(self, idx):\n",
    "        return self.sequences[idx], self.labels[idx]\n",
    "\n",
    "# Create datasets for LSTM + CNN\n",
    "train_dataset_lstm_cnn = HateSpeechDatasetLSTM_CNN(X_train, y_train)\n",
    "val_dataset_lstm_cnn = HateSpeechDatasetLSTM_CNN(X_val, y_val)"
   ]
  },
  {
   "cell_type": "code",
   "execution_count": 44,
   "metadata": {},
   "outputs": [
    {
     "name": "stdout",
     "output_type": "stream",
     "text": [
      "Epoch 1/10, Loss: 0.4996066361665726\n",
      "Validation Loss: 0.2966541697581609, Accuracy: 1.0\n",
      "Epoch 2/10, Loss: 0.15125424563884735\n",
      "Validation Loss: 0.057566589365402855, Accuracy: 1.0\n",
      "Epoch 3/10, Loss: 0.017804408888332547\n",
      "Validation Loss: 0.005842453179260095, Accuracy: 1.0\n",
      "Epoch 4/10, Loss: 0.0019964916107710453\n",
      "Validation Loss: 0.0011778951350909967, Accuracy: 1.0\n",
      "Epoch 5/10, Loss: 0.0003936199733288959\n",
      "Validation Loss: 0.0006650499708484858, Accuracy: 1.0\n",
      "Epoch 6/10, Loss: 0.00020753161661559715\n",
      "Validation Loss: 0.0004982521156004319, Accuracy: 1.0\n",
      "Epoch 7/10, Loss: 0.00014954792277421802\n",
      "Validation Loss: 0.0003876340148660044, Accuracy: 1.0\n",
      "Epoch 8/10, Loss: 0.0001228118529979838\n",
      "Validation Loss: 0.0003058744720571364, Accuracy: 1.0\n",
      "Epoch 9/10, Loss: 0.00010806382197188213\n",
      "Validation Loss: 0.00026091705755485844, Accuracy: 1.0\n",
      "Epoch 10/10, Loss: 0.00010269130652886815\n",
      "Validation Loss: 0.00023960685211932287, Accuracy: 1.0\n"
     ]
    }
   ],
   "source": [
    "# Define hyperparameters for LSTM + CNN\n",
    "vocab_size = len(vocab)\n",
    "embed_dim = 100\n",
    "lstm_hidden_dim = 128\n",
    "cnn_hidden_dim = 128\n",
    "num_classes = 2\n",
    "dropout = 0.5\n",
    "\n",
    "# Initialize model for LSTM + CNN\n",
    "model_lstm_cnn = LSTM_CNN(vocab_size, embed_dim, lstm_hidden_dim, cnn_hidden_dim, num_classes, dropout)\n",
    "\n",
    "# Define loss function and optimizer\n",
    "criterion = nn.CrossEntropyLoss()\n",
    "optimizer = torch.optim.Adam(model_lstm_cnn.parameters(), lr=1e-3)\n",
    "\n",
    "# Define training loop for LSTM + CNN\n",
    "def train_model(model, criterion, optimizer, train_loader, val_loader, num_epochs=10):\n",
    "    model.train()\n",
    "    for epoch in range(num_epochs):\n",
    "        epoch_loss = 0\n",
    "        for batch in train_loader:\n",
    "            optimizer.zero_grad()\n",
    "            input_ids, labels = batch\n",
    "            outputs = model(input_ids)\n",
    "            loss = criterion(outputs, labels)\n",
    "            loss.backward()\n",
    "            optimizer.step()\n",
    "            epoch_loss += loss.item()\n",
    "        print(f'Epoch {epoch+1}/{num_epochs}, Loss: {epoch_loss/len(train_loader)}')\n",
    "        \n",
    "        # Evaluate on validation set\n",
    "        model.eval()\n",
    "        val_loss = 0\n",
    "        correct = 0\n",
    "        total = 0\n",
    "        with torch.no_grad():\n",
    "            for batch in val_loader:\n",
    "                input_ids, labels = batch\n",
    "                outputs = model(input_ids)\n",
    "                loss = criterion(outputs, labels)\n",
    "                val_loss += loss.item()\n",
    "                _, predicted = torch.max(outputs.data, 1)\n",
    "                total += labels.size(0)\n",
    "                correct += (predicted == labels).sum().item()\n",
    "        print(f'Validation Loss: {val_loss/len(val_loader)}, Accuracy: {correct/total}')\n",
    "\n",
    "# Create DataLoader for LSTM + CNN\n",
    "train_loader = DataLoader(train_dataset_lstm_cnn, batch_size=16, shuffle=True)\n",
    "val_loader = DataLoader(val_dataset_lstm_cnn, batch_size=16, shuffle=False)\n",
    "\n",
    "# Train the LSTM + CNN model\n",
    "train_model(model_lstm_cnn, criterion, optimizer, train_loader, val_loader, num_epochs=10)"
   ]
  },
  {
   "cell_type": "code",
   "execution_count": 45,
   "metadata": {},
   "outputs": [
    {
     "name": "stderr",
     "output_type": "stream",
     "text": [
      "[nltk_data] Downloading package averaged_perceptron_tagger to\n",
      "[nltk_data]     C:\\Users\\Aditya Mohan\n",
      "[nltk_data]     Khade\\AppData\\Roaming\\nltk_data...\n",
      "[nltk_data]   Package averaged_perceptron_tagger is already up-to-\n",
      "[nltk_data]       date!\n",
      "[nltk_data] Downloading package wordnet to C:\\Users\\Aditya Mohan\n",
      "[nltk_data]     Khade\\AppData\\Roaming\\nltk_data...\n",
      "[nltk_data]   Package wordnet is already up-to-date!\n",
      "[nltk_data] Downloading package omw-1.4 to C:\\Users\\Aditya Mohan\n",
      "[nltk_data]     Khade\\AppData\\Roaming\\nltk_data...\n",
      "[nltk_data]   Package omw-1.4 is already up-to-date!\n"
     ]
    },
    {
     "name": "stdout",
     "output_type": "stream",
     "text": [
      "Augmented texts: 980, Augmented labels: 980\n",
      "Epoch 1/10, Loss: 0.1318439114545334\n",
      "Validation Loss: 0.0005439736346791809, Accuracy: 1.0\n",
      "Epoch 2/10, Loss: 0.00023591931001307892\n",
      "Validation Loss: 0.00012516919863022244, Accuracy: 1.0\n",
      "Epoch 3/10, Loss: 6.658243393172536e-05\n",
      "Validation Loss: 8.583356199475626e-05, Accuracy: 1.0\n",
      "Epoch 4/10, Loss: 1.875829103112865e-05\n",
      "Validation Loss: 1.0563711839495227e-05, Accuracy: 1.0\n",
      "Epoch 5/10, Loss: 5.45374959005847e-06\n",
      "Validation Loss: 7.226347088362673e-06, Accuracy: 1.0\n",
      "Epoch 6/10, Loss: 4.7166689572057265e-06\n",
      "Validation Loss: 6.3530472743877905e-06, Accuracy: 1.0\n",
      "Epoch 7/10, Loss: 4.140167652236661e-06\n",
      "Validation Loss: 5.341885237915752e-06, Accuracy: 1.0\n",
      "Epoch 8/10, Loss: 3.60922817803531e-06\n",
      "Validation Loss: 4.9910225849695655e-06, Accuracy: 1.0\n",
      "Epoch 9/10, Loss: 3.1542053239579635e-06\n",
      "Validation Loss: 4.296358080561428e-06, Accuracy: 1.0\n",
      "Epoch 10/10, Loss: 2.7658589191313526e-06\n",
      "Validation Loss: 3.67287726324624e-06, Accuracy: 1.0\n",
      "Epoch 1/10, Loss: 0.000019\n",
      "Validation Loss: 0.000002, Accuracy: 1.0000\n",
      "Epoch 2/10, Loss: 0.000011\n",
      "Validation Loss: 0.000001, Accuracy: 1.0000\n",
      "Epoch 3/10, Loss: 0.000008\n",
      "Validation Loss: 0.000000, Accuracy: 1.0000\n",
      "Epoch 4/10, Loss: 0.000003\n",
      "Validation Loss: 0.000000, Accuracy: 1.0000\n",
      "Epoch 5/10, Loss: 0.000003\n",
      "Validation Loss: 0.000000, Accuracy: 1.0000\n",
      "Epoch 6/10, Loss: 0.000003\n",
      "Validation Loss: 0.000000, Accuracy: 1.0000\n",
      "Epoch 7/10, Loss: 0.000002\n",
      "Validation Loss: 0.000000, Accuracy: 1.0000\n",
      "Epoch 8/10, Loss: 0.000002\n",
      "Validation Loss: 0.000000, Accuracy: 1.0000\n",
      "Epoch 9/10, Loss: 0.000001\n",
      "Validation Loss: 0.000000, Accuracy: 1.0000\n",
      "Epoch 10/10, Loss: 0.000001\n",
      "Validation Loss: 0.000000, Accuracy: 1.0000\n"
     ]
    }
   ],
   "source": [
    "# Data Augmentation\n",
    "import nltk\n",
    "import copy\n",
    "nltk.download('averaged_perceptron_tagger')\n",
    "nltk.download('wordnet')\n",
    "nltk.download('omw-1.4')\n",
    "\n",
    "from nlpaug.augmenter.word import SynonymAug\n",
    "\n",
    "aug = SynonymAug(aug_src='wordnet')\n",
    "\n",
    "def augment_text(text, augmenter, num_aug=5):\n",
    "    try:\n",
    "        augmented = augmenter.augment(text, n=num_aug)\n",
    "        return augmented if augmented else []\n",
    "    except Exception as e:\n",
    "        print(f\"Augmentation failed for text: {text}. Error: {str(e)}\")\n",
    "        return []\n",
    "\n",
    "# Augment the dataset\n",
    "augmented_texts = []\n",
    "augmented_labels = []\n",
    "\n",
    "# Reset index to ensure contiguous integer indexing\n",
    "df_balanced = df_balanced.reset_index(drop=True)  # Critical fix\n",
    "\n",
    "for i, text in enumerate(df_balanced['clean_tweet']):\n",
    "    try:\n",
    "        augmented = augment_text(text, aug)\n",
    "        if len(augmented) > 0:\n",
    "            augmented_texts.extend(augmented)\n",
    "            augmented_labels.extend([df_balanced['label'].iloc[i]] * len(augmented))\n",
    "    except Exception as e:\n",
    "        print(f\"Error augmenting text: {text}. Error: {e}\")\n",
    "\n",
    "# Verify lengths match\n",
    "print(f\"Augmented texts: {len(augmented_texts)}, Augmented labels: {len(augmented_labels)}\")\n",
    "\n",
    "# Create augmented DataFrame\n",
    "df_augmented = pd.DataFrame({'clean_tweet': augmented_texts, 'label': augmented_labels})\n",
    "\n",
    "# Combine and split data\n",
    "df_combined = pd.concat([df_balanced, df_augmented]).reset_index(drop=True)\n",
    "\n",
    "# Convert combined texts to sequences\n",
    "X_combined = [text_to_sequence(text, vocab, max_len=100) for text in df_combined['clean_tweet']]\n",
    "X_combined = torch.tensor(X_combined, dtype=torch.long)\n",
    "\n",
    "# Split data with error handling\n",
    "try:\n",
    "    X_train_combined, X_val_combined, y_train_combined, y_val_combined = train_test_split(\n",
    "        X_combined, df_combined['label'], test_size=0.2, random_state=42, stratify=df_combined['label']\n",
    "    )\n",
    "except ValueError:\n",
    "    # Fallback if stratify fails\n",
    "    X_train_combined, X_val_combined, y_train_combined, y_val_combined = train_test_split(\n",
    "        X_combined, df_combined['label'], test_size=0.2, random_state=42\n",
    "    )\n",
    "\n",
    "# Create datasets for LSTM + CNN\n",
    "train_dataset_combined = HateSpeechDatasetLSTM_CNN(X_train_combined, y_train_combined)\n",
    "val_dataset_combined = HateSpeechDatasetLSTM_CNN(X_val_combined, y_val_combined)\n",
    "\n",
    "# DataLoader\n",
    "train_loader_combined = DataLoader(train_dataset_combined, batch_size=16, shuffle=True)\n",
    "val_loader_combined = DataLoader(val_dataset_combined, batch_size=16, shuffle=False)\n",
    "\n",
    "# Define hyperparameters for LSTM + CNN\n",
    "vocab_size = len(vocab)\n",
    "embed_dim = 100\n",
    "lstm_hidden_dim = 128\n",
    "cnn_hidden_dim = 128\n",
    "num_classes = 2\n",
    "dropout = 0.5\n",
    "\n",
    "# Initialize model for LSTM + CNN\n",
    "model_lstm_cnn = LSTM_CNN(vocab_size, embed_dim, lstm_hidden_dim, cnn_hidden_dim, num_classes, dropout)\n",
    "\n",
    "# Define loss function and optimizer\n",
    "criterion = nn.CrossEntropyLoss()\n",
    "optimizer = torch.optim.Adam(model_lstm_cnn.parameters(), lr=1e-3)\n",
    "\n",
    "# Define training loop for LSTM + CNN\n",
    "def train_model(model, criterion, optimizer, train_loader, val_loader, num_epochs=10):\n",
    "    model.train()\n",
    "    for epoch in range(num_epochs):\n",
    "        epoch_loss = 0\n",
    "        for batch in train_loader:\n",
    "            optimizer.zero_grad()\n",
    "            input_ids, labels = batch\n",
    "            outputs = model(input_ids)\n",
    "            loss = criterion(outputs, labels)\n",
    "            loss.backward()\n",
    "            optimizer.step()\n",
    "            epoch_loss += loss.item()\n",
    "        print(f'Epoch {epoch+1}/{num_epochs}, Loss: {epoch_loss/len(train_loader)}')\n",
    "        \n",
    "        # Evaluate on validation set\n",
    "        model.eval()\n",
    "        val_loss = 0\n",
    "        correct = 0\n",
    "        total = 0\n",
    "        with torch.no_grad():\n",
    "            for batch in val_loader:\n",
    "                input_ids, labels = batch\n",
    "                outputs = model(input_ids)\n",
    "                loss = criterion(outputs, labels)\n",
    "                val_loss += loss.item()\n",
    "                _, predicted = torch.max(outputs.data, 1)\n",
    "                total += labels.size(0)\n",
    "                correct += (predicted == labels).sum().item()\n",
    "        print(f'Validation Loss: {val_loss/len(val_loader)}, Accuracy: {correct/total}')\n",
    "\n",
    "# Train with augmented data\n",
    "train_model(model_lstm_cnn, criterion, optimizer, train_loader_combined, val_loader_combined, num_epochs=10)\n",
    "\n",
    "# Adversarial Training\n",
    "from torch.autograd import Variable\n",
    "\n",
    "def adversarial_train(model, criterion, optimizer, train_loader, val_loader, epsilon=0.01, num_epochs=10):\n",
    "    device = next(model.parameters()).device\n",
    "    \n",
    "    for epoch in range(num_epochs):\n",
    "        model.train()\n",
    "        epoch_loss = 0\n",
    "        \n",
    "        for batch in train_loader:\n",
    "            input_ids, labels = batch\n",
    "            input_ids, labels = input_ids.to(device), labels.to(device)\n",
    "            \n",
    "            # STEP 1: Regular forward pass\n",
    "            optimizer.zero_grad()\n",
    "            outputs = model(input_ids)\n",
    "            loss = criterion(outputs, labels)\n",
    "            loss.backward(retain_graph=True)\n",
    "            \n",
    "            # STEP 2: Generate adversarial examples\n",
    "            # Get embedding gradients\n",
    "            emb_grad = None\n",
    "            for name, param in model.named_parameters():\n",
    "                if name == 'embedding.weight' and param.grad is not None:\n",
    "                    emb_grad = param.grad\n",
    "            \n",
    "            if emb_grad is not None:\n",
    "                # Create adversarial perturbation at the embedding level\n",
    "                embedded = model.embedding(input_ids)\n",
    "                embedded.retain_grad()\n",
    "                \n",
    "                # This could be improved with better gradient handling\n",
    "                delta = epsilon * torch.sign(torch.index_select(emb_grad, 0, input_ids.view(-1)))\n",
    "                delta = delta.view(input_ids.size(0), input_ids.size(1), -1)\n",
    "                \n",
    "                # Get perturbed embeddings\n",
    "                embedded_adv = embedded.detach() + delta\n",
    "                \n",
    "                # Manual forward pass with perturbed embedding\n",
    "                lstm_out, _ = model.lstm(embedded_adv)\n",
    "                lstm_out = lstm_out.permute(0, 2, 1)\n",
    "                conv_out = F.relu(model.conv1d(lstm_out))\n",
    "                pooled = model.pool(conv_out).squeeze(-1)\n",
    "                dropped = model.dropout(pooled)\n",
    "                adv_outputs = model.fc(dropped)\n",
    "                \n",
    "                # Adversarial loss\n",
    "                adv_loss = criterion(adv_outputs, labels)\n",
    "                \n",
    "                # Combine loss\n",
    "                total_loss = loss + adv_loss\n",
    "                optimizer.zero_grad()\n",
    "                total_loss.backward()\n",
    "                optimizer.step()\n",
    "                \n",
    "                epoch_loss += total_loss.item()\n",
    "            else:\n",
    "                # If no gradients, just use regular loss\n",
    "                optimizer.step()\n",
    "                epoch_loss += loss.item()\n",
    "        \n",
    "        avg_loss = epoch_loss / len(train_loader)\n",
    "        print(f'Epoch {epoch+1}/{num_epochs}, Loss: {avg_loss:.6f}')\n",
    "        \n",
    "        # Evaluation\n",
    "        model.eval()\n",
    "        val_loss = 0\n",
    "        correct = 0\n",
    "        total = 0\n",
    "        with torch.no_grad():\n",
    "            for batch in val_loader:\n",
    "                input_ids, labels = batch\n",
    "                input_ids, labels = input_ids.to(device), labels.to(device)\n",
    "                outputs = model(input_ids)\n",
    "                loss = criterion(outputs, labels)\n",
    "                val_loss += loss.item()\n",
    "                _, predicted = torch.max(outputs.data, 1)\n",
    "                total += labels.size(0)\n",
    "                correct += (predicted == labels).sum().item()\n",
    "        \n",
    "        val_avg_loss = val_loss / len(val_loader)\n",
    "        accuracy = correct / total\n",
    "        print(f'Validation Loss: {val_avg_loss:.6f}, Accuracy: {accuracy:.4f}')\n",
    "\n",
    "# Adversarial train LSTM + CNN\n",
    "adversarial_train(model_lstm_cnn, criterion, optimizer, train_loader_combined, val_loader_combined, epsilon=0.01, num_epochs=10)"
   ]
  },
  {
   "cell_type": "code",
   "execution_count": 46,
   "metadata": {},
   "outputs": [
    {
     "name": "stdout",
     "output_type": "stream",
     "text": [
      "Using device: cpu\n",
      "Adversarial Model Accuracy: 1.0000\n",
      "\n",
      "Classification Report:\n",
      "                 precision    recall  f1-score   support\n",
      "\n",
      "Non-Hate Speech       1.00      1.00      1.00       118\n",
      "    Hate Speech       1.00      1.00      1.00       118\n",
      "\n",
      "       accuracy                           1.00       236\n",
      "      macro avg       1.00      1.00      1.00       236\n",
      "   weighted avg       1.00      1.00      1.00       236\n",
      "\n"
     ]
    }
   ],
   "source": [
    "# First, add this line to define the device variable before using it\n",
    "device = torch.device('cuda' if torch.cuda.is_available() else 'cpu')\n",
    "print(f\"Using device: {device}\")\n",
    "\n",
    "# Predict on validation set using the adversarially trained model\n",
    "model_lstm_cnn.eval()  # Use model_lstm_cnn instead of model_adv\n",
    "preds_list_adv = []\n",
    "true_labels_adv = []\n",
    "\n",
    "try:\n",
    "    with torch.no_grad():\n",
    "        for batch in val_loader_combined:  # Use val_loader_combined instead of val_loader_adv\n",
    "            # For standard PyTorch dataloaders which return (inputs, labels) tuples\n",
    "            input_ids, labels = batch\n",
    "            input_ids, labels = input_ids.to(device), labels.to(device)\n",
    "            true_labels_adv.extend(labels.cpu().numpy())\n",
    "            \n",
    "            outputs = model_lstm_cnn(input_ids)\n",
    "            preds = torch.argmax(outputs, dim=1)\n",
    "                \n",
    "            # Collect predictions\n",
    "            preds_list_adv.extend(preds.cpu().numpy())\n",
    "            \n",
    "    # Generate classification report\n",
    "    from sklearn.metrics import classification_report, accuracy_score\n",
    "    \n",
    "    print(f\"Adversarial Model Accuracy: {accuracy_score(true_labels_adv, preds_list_adv):.4f}\")\n",
    "    print(\"\\nClassification Report:\")\n",
    "    print(classification_report(true_labels_adv, preds_list_adv, target_names=['Non-Hate Speech', 'Hate Speech']))\n",
    "\n",
    "except Exception as e:\n",
    "    import traceback\n",
    "    print(f\"Error during evaluation: {e}\")\n",
    "    traceback.print_exc()"
   ]
  },
  {
   "cell_type": "code",
   "execution_count": 47,
   "metadata": {},
   "outputs": [
    {
     "data": {
      "image/png": "[encoded data removed]",
      "text/plain": [
       "<Figure size 1000x600 with 2 Axes>"
      ]
     },
     "metadata": {},
     "output_type": "display_data"
    }
   ],
   "source": [
    "# Just plot the classification report for the adversarial model which you already have\n",
    "from sklearn.metrics import classification_report\n",
    "import pandas as pd\n",
    "import seaborn as sns\n",
    "import matplotlib.pyplot as plt\n",
    "\n",
    "# Define the function to plot classification report\n",
    "def plot_classification_report(report, title):\n",
    "    report_df = pd.DataFrame(report).iloc[:-1, :].T  \n",
    "    plt.figure(figsize=(10, 6))\n",
    "    sns.heatmap(report_df, annot=True, fmt=\".2f\", cmap='Blues')\n",
    "    plt.title(title)\n",
    "    plt.show()\n",
    "\n",
    "# You already have true_labels_adv and preds_list_adv from your model evaluation\n",
    "report = classification_report(true_labels_adv, preds_list_adv, \n",
    "                             target_names=['Non-Hate Speech', 'Hate Speech'], \n",
    "                             output_dict=True)\n",
    "                             \n",
    "plot_classification_report(report, \"Adversarial Model Performance\")"
   ]
  },
  {
   "cell_type": "code",
   "execution_count": 48,
   "metadata": {},
   "outputs": [
    {
     "name": "stdout",
     "output_type": "stream",
     "text": [
      "Models saved successfully!\n"
     ]
    }
   ],
   "source": [
    "# Save the BERT model (which has save_pretrained)\n",
    "model_bert.save_pretrained('./hate_speech_model_bert')\n",
    "tokenizer.save_pretrained('./hate_speech_model_bert')\n",
    "\n",
    "# Save the LSTM_CNN model using PyTorch's native saving method\n",
    "model_info = {\n",
    "    'state_dict': model_lstm_cnn.state_dict(),\n",
    "    'vocab_size': len(vocab),\n",
    "    'embed_dim': 100,\n",
    "    'lstm_hidden_dim': 128,\n",
    "    'cnn_hidden_dim': 128,\n",
    "    'num_classes': 2,\n",
    "    'dropout': 0.5\n",
    "}\n",
    "torch.save(model_info, './hate_speech_model_lstm_cnn.pth')\n",
    "\n",
    "# Save the vocabulary for LSTM_CNN model\n",
    "import pickle\n",
    "with open('./vocab.pkl', 'wb') as f:\n",
    "    pickle.dump(vocab, f)\n",
    "\n",
    "print(\"Models saved successfully!\")"
   ]
  },
  {
   "cell_type": "code",
   "execution_count": 49,
   "metadata": {},
   "outputs": [
    {
     "name": "stdout",
     "output_type": "stream",
     "text": [
      "Models loaded successfully!\n"
     ]
    }
   ],
   "source": [
    "# Loading the BERT model\n",
    "from transformers import BertForSequenceClassification, BertTokenizer\n",
    "\n",
    "loaded_bert_model = BertForSequenceClassification.from_pretrained('./hate_speech_model_bert')\n",
    "loaded_tokenizer = BertTokenizer.from_pretrained('./hate_speech_model_bert')\n",
    "\n",
    "# Loading the LSTM_CNN model\n",
    "# First define the model architecture with the same parameters\n",
    "vocab_size = len(vocab)  # You need to know or load the vocab size\n",
    "embed_dim = 100  # Use the same dimensions as during training\n",
    "lstm_hidden_dim = 128\n",
    "cnn_hidden_dim = 128\n",
    "num_classes = 2\n",
    "dropout = 0.5\n",
    "\n",
    "# When loading:\n",
    "model_info = torch.load('./hate_speech_model_lstm_cnn.pth')\n",
    "loaded_lstm_cnn = LSTM_CNN(\n",
    "    model_info['vocab_size'], \n",
    "    model_info['embed_dim'], \n",
    "    model_info['lstm_hidden_dim'],\n",
    "    model_info['cnn_hidden_dim'],\n",
    "    model_info['num_classes'],\n",
    "    model_info['dropout']\n",
    ")\n",
    "loaded_lstm_cnn.load_state_dict(model_info['state_dict'])\n",
    "loaded_lstm_cnn.eval()  # Set to evaluation mode\n",
    "\n",
    "# Load the vocabulary\n",
    "with open('./vocab.pkl', 'rb') as f:\n",
    "    loaded_vocab = pickle.load(f)\n",
    "\n",
    "print(\"Models loaded successfully!\")"
   ]
  },
  {
   "cell_type": "code",
   "execution_count": null,
   "metadata": {},
   "outputs": [
    {
     "name": "stdout",
     "output_type": "stream",
     "text": [
      "Attempting to load vocabulary from: a:\\8TH SEMESTER\\Major Project\\new\\1\\vocab.pkl\n",
      "Vocabulary loaded successfully with 489 entries\n",
      "Attempting to load model from: a:\\8TH SEMESTER\\Major Project\\new\\1\\hate_speech_model_lstm_cnn.pth\n",
      "Model and vocabulary loaded successfully!\n",
      "Starting Flask API server...\n",
      " * Serving Flask app '__main__'\n",
      " * Debug mode: off\n"
     ]
    },
    {
     "name": "stderr",
     "output_type": "stream",
     "text": [
      "WARNING: This is a development server. Do not use it in a production deployment. Use a production WSGI server instead.\n",
      " * Running on http://127.0.0.1:5000\n",
      "Press CTRL+C to quit\n",
      "127.0.0.1 - - [28/Feb/2025 15:56:41] \"GET / HTTP/1.1\" 200 -\n",
      "127.0.0.1 - - [28/Feb/2025 15:56:43] \"GET / HTTP/1.1\" 200 -\n",
      "127.0.0.1 - - [28/Feb/2025 15:56:43] \"GET / HTTP/1.1\" 200 -\n",
      "127.0.0.1 - - [28/Feb/2025 15:56:48] \"POST /predict_lstm_cnn HTTP/1.1\" 200 -\n"
     ]
    },
    {
     "name": "stdout",
     "output_type": "stream",
     "text": [
      "Input text: Kill all [slur] people they don't deserve to live\n",
      "Preprocessed: kill all slur people they dont deserve to live\n",
      "Vocab coverage: 5/9 tokens\n",
      "Raw logits: [[10.3920145 -8.606645 ]]\n",
      "Probabilities: [[1.000000e+00 5.610314e-09]]\n",
      "Prediction: {'label': 'Non-Hate Speech', 'score': 1.0}\n"
     ]
    },
    {
     "name": "stderr",
     "output_type": "stream",
     "text": [
      "127.0.0.1 - - [28/Feb/2025 15:56:49] \"POST /predict_lstm_cnn HTTP/1.1\" 200 -\n"
     ]
    },
    {
     "name": "stdout",
     "output_type": "stream",
     "text": [
      "Input text: Kill all [slur] people they don't deserve to live\n",
      "Preprocessed: kill all slur people they dont deserve to live\n",
      "Vocab coverage: 5/9 tokens\n",
      "Raw logits: [[10.3920145 -8.606645 ]]\n",
      "Probabilities: [[1.000000e+00 5.610314e-09]]\n",
      "Prediction: {'label': 'Non-Hate Speech', 'score': 1.0}\n"
     ]
    },
    {
     "name": "stderr",
     "output_type": "stream",
     "text": [
      "127.0.0.1 - - [28/Feb/2025 15:57:14] \"POST /predict_lstm_cnn HTTP/1.1\" 200 -\n"
     ]
    },
    {
     "name": "stdout",
     "output_type": "stream",
     "text": [
      "Input text: Kill all [slur] people they don't deserve to live\n",
      "Preprocessed: kill all slur people they dont deserve to live\n",
      "Vocab coverage: 5/9 tokens\n",
      "Raw logits: [[10.3920145 -8.606645 ]]\n",
      "Probabilities: [[1.000000e+00 5.610314e-09]]\n",
      "Prediction: {'label': 'Non-Hate Speech', 'score': 1.0}\n"
     ]
    },
    {
     "name": "stderr",
     "output_type": "stream",
     "text": [
      "127.0.0.1 - - [28/Feb/2025 15:57:58] \"POST /predict_lstm_cnn HTTP/1.1\" 200 -\n"
     ]
    },
    {
     "name": "stdout",
     "output_type": "stream",
     "text": [
      "Input text: We should eliminate all people who follow that religion to make our country pure again.\n",
      "Preprocessed: we should eliminate all people who follow that religion to make our country pure again\n",
      "Vocab coverage: 7/15 tokens\n",
      "Raw logits: [[ 12.162737 -10.144196]]\n",
      "Probabilities: [[1.0000000e+00 2.0522126e-10]]\n",
      "Prediction: {'label': 'Non-Hate Speech', 'score': 1.0}\n"
     ]
    },
    {
     "name": "stderr",
     "output_type": "stream",
     "text": [
      "127.0.0.1 - - [28/Feb/2025 15:57:59] \"POST /predict_lstm_cnn HTTP/1.1\" 200 -\n"
     ]
    },
    {
     "name": "stdout",
     "output_type": "stream",
     "text": [
      "Input text: We should eliminate all people who follow that religion to make our country pure again.\n",
      "Preprocessed: we should eliminate all people who follow that religion to make our country pure again\n",
      "Vocab coverage: 7/15 tokens\n",
      "Raw logits: [[ 12.162737 -10.144196]]\n",
      "Probabilities: [[1.0000000e+00 2.0522126e-10]]\n",
      "Prediction: {'label': 'Non-Hate Speech', 'score': 1.0}\n"
     ]
    },
    {
     "name": "stderr",
     "output_type": "stream",
     "text": [
      "127.0.0.1 - - [28/Feb/2025 15:57:59] \"POST /predict_lstm_cnn HTTP/1.1\" 200 -\n"
     ]
    },
    {
     "name": "stdout",
     "output_type": "stream",
     "text": [
      "Input text: We should eliminate all people who follow that religion to make our country pure again.\n",
      "Preprocessed: we should eliminate all people who follow that religion to make our country pure again\n",
      "Vocab coverage: 7/15 tokens\n",
      "Raw logits: [[ 12.162737 -10.144196]]\n",
      "Probabilities: [[1.0000000e+00 2.0522126e-10]]\n",
      "Prediction: {'label': 'Non-Hate Speech', 'score': 1.0}\n"
     ]
    },
    {
     "name": "stderr",
     "output_type": "stream",
     "text": [
      "127.0.0.1 - - [28/Feb/2025 15:57:59] \"POST /predict_lstm_cnn HTTP/1.1\" 200 -\n",
      "127.0.0.1 - - [28/Feb/2025 15:58:00] \"POST /predict_lstm_cnn HTTP/1.1\" 200 -\n"
     ]
    },
    {
     "name": "stdout",
     "output_type": "stream",
     "text": [
      "Input text: We should eliminate all people who follow that religion to make our country pure again.\n",
      "Preprocessed: we should eliminate all people who follow that religion to make our country pure again\n",
      "Vocab coverage: 7/15 tokens\n",
      "Raw logits: [[ 12.162737 -10.144196]]\n",
      "Probabilities: [[1.0000000e+00 2.0522126e-10]]\n",
      "Prediction: {'label': 'Non-Hate Speech', 'score': 1.0}\n",
      "Input text: We should eliminate all people who follow that religion to make our country pure again.\n",
      "Preprocessed: we should eliminate all people who follow that religion to make our country pure again\n",
      "Vocab coverage: 7/15 tokens\n",
      "Raw logits: [[ 12.162737 -10.144196]]\n",
      "Probabilities: [[1.0000000e+00 2.0522126e-10]]\n",
      "Prediction: {'label': 'Non-Hate Speech', 'score': 1.0}\n"
     ]
    },
    {
     "name": "stderr",
     "output_type": "stream",
     "text": [
      "127.0.0.1 - - [28/Feb/2025 15:58:00] \"POST /predict_lstm_cnn HTTP/1.1\" 200 -\n",
      "127.0.0.1 - - [28/Feb/2025 15:58:00] \"POST /predict_lstm_cnn HTTP/1.1\" 200 -\n"
     ]
    },
    {
     "name": "stdout",
     "output_type": "stream",
     "text": [
      "Input text: We should eliminate all people who follow that religion to make our country pure again.\n",
      "Preprocessed: we should eliminate all people who follow that religion to make our country pure again\n",
      "Vocab coverage: 7/15 tokens\n",
      "Raw logits: [[ 12.162737 -10.144196]]\n",
      "Probabilities: [[1.0000000e+00 2.0522126e-10]]\n",
      "Prediction: {'label': 'Non-Hate Speech', 'score': 1.0}\n",
      "Input text: We should eliminate all people who follow that religion to make our country pure again.\n",
      "Preprocessed: we should eliminate all people who follow that religion to make our country pure again\n",
      "Vocab coverage: 7/15 tokens\n",
      "Raw logits: [[ 12.162737 -10.144196]]\n",
      "Probabilities: [[1.0000000e+00 2.0522126e-10]]\n",
      "Prediction: {'label': 'Non-Hate Speech', 'score': 1.0}\n"
     ]
    },
    {
     "name": "stderr",
     "output_type": "stream",
     "text": [
      "127.0.0.1 - - [28/Feb/2025 15:58:00] \"POST /predict_lstm_cnn HTTP/1.1\" 200 -\n",
      "127.0.0.1 - - [28/Feb/2025 15:58:00] \"POST /predict_lstm_cnn HTTP/1.1\" 200 -\n"
     ]
    },
    {
     "name": "stdout",
     "output_type": "stream",
     "text": [
      "Input text: We should eliminate all people who follow that religion to make our country pure again.\n",
      "Preprocessed: we should eliminate all people who follow that religion to make our country pure again\n",
      "Vocab coverage: 7/15 tokens\n",
      "Raw logits: [[ 12.162737 -10.144196]]\n",
      "Probabilities: [[1.0000000e+00 2.0522126e-10]]\n",
      "Prediction: {'label': 'Non-Hate Speech', 'score': 1.0}\n",
      "Input text: We should eliminate all people who follow that religion to make our country pure again.\n",
      "Preprocessed: we should eliminate all people who follow that religion to make our country pure again\n",
      "Vocab coverage: 7/15 tokens\n",
      "Raw logits: [[ 12.162737 -10.144196]]\n",
      "Probabilities: [[1.0000000e+00 2.0522126e-10]]\n",
      "Prediction: {'label': 'Non-Hate Speech', 'score': 1.0}\n"
     ]
    },
    {
     "name": "stderr",
     "output_type": "stream",
     "text": [
      "127.0.0.1 - - [28/Feb/2025 15:58:01] \"POST /predict_lstm_cnn HTTP/1.1\" 200 -\n"
     ]
    },
    {
     "name": "stdout",
     "output_type": "stream",
     "text": [
      "Input text: We should eliminate all people who follow that religion to make our country pure again.\n",
      "Preprocessed: we should eliminate all people who follow that religion to make our country pure again\n",
      "Vocab coverage: 7/15 tokens\n",
      "Raw logits: [[ 12.162737 -10.144196]]\n",
      "Probabilities: [[1.0000000e+00 2.0522126e-10]]\n",
      "Prediction: {'label': 'Non-Hate Speech', 'score': 1.0}\n"
     ]
    },
    {
     "name": "stderr",
     "output_type": "stream",
     "text": [
      "127.0.0.1 - - [28/Feb/2025 15:58:01] \"POST /predict_lstm_cnn HTTP/1.1\" 200 -\n"
     ]
    },
    {
     "name": "stdout",
     "output_type": "stream",
     "text": [
      "Input text: We should eliminate all people who follow that religion to make our country pure again.\n",
      "Preprocessed: we should eliminate all people who follow that religion to make our country pure again\n",
      "Vocab coverage: 7/15 tokens\n",
      "Raw logits: [[ 12.162737 -10.144196]]\n",
      "Probabilities: [[1.0000000e+00 2.0522126e-10]]\n",
      "Prediction: {'label': 'Non-Hate Speech', 'score': 1.0}\n"
     ]
    },
    {
     "name": "stderr",
     "output_type": "stream",
     "text": [
      "127.0.0.1 - - [28/Feb/2025 15:58:01] \"POST /predict_lstm_cnn HTTP/1.1\" 200 -\n"
     ]
    },
    {
     "name": "stdout",
     "output_type": "stream",
     "text": [
      "Input text: We should eliminate all people who follow that religion to make our country pure again.\n",
      "Preprocessed: we should eliminate all people who follow that religion to make our country pure again\n",
      "Vocab coverage: 7/15 tokens\n",
      "Raw logits: [[ 12.162737 -10.144196]]\n",
      "Probabilities: [[1.0000000e+00 2.0522126e-10]]\n",
      "Prediction: {'label': 'Non-Hate Speech', 'score': 1.0}\n"
     ]
    },
    {
     "name": "stderr",
     "output_type": "stream",
     "text": [
      "127.0.0.1 - - [28/Feb/2025 15:58:16] \"POST /predict_lstm_cnn HTTP/1.1\" 200 -\n"
     ]
    },
    {
     "name": "stdout",
     "output_type": "stream",
     "text": [
      "Input text: It's natural to want to be with your own kind, it's human nature.\n",
      "Preprocessed: its natural to want to be with your own kind its human nature\n",
      "Vocab coverage: 8/13 tokens\n",
      "Raw logits: [[11.780037 -9.817939]]\n",
      "Probabilities: [[1.0000000e+00 4.1698256e-10]]\n",
      "Prediction: {'label': 'Non-Hate Speech', 'score': 1.0}\n"
     ]
    },
    {
     "name": "stderr",
     "output_type": "stream",
     "text": [
      "127.0.0.1 - - [28/Feb/2025 15:58:16] \"POST /predict_lstm_cnn HTTP/1.1\" 200 -\n",
      "127.0.0.1 - - [28/Feb/2025 15:58:16] \"POST /predict_lstm_cnn HTTP/1.1\" 200 -\n"
     ]
    },
    {
     "name": "stdout",
     "output_type": "stream",
     "text": [
      "Input text: It's natural to want to be with your own kind, it's human nature.\n",
      "Preprocessed: its natural to want to be with your own kind its human nature\n",
      "Vocab coverage: 8/13 tokens\n",
      "Raw logits: [[11.780037 -9.817939]]\n",
      "Probabilities: [[1.0000000e+00 4.1698256e-10]]\n",
      "Prediction: {'label': 'Non-Hate Speech', 'score': 1.0}\n",
      "Input text: It's natural to want to be with your own kind, it's human nature.\n",
      "Preprocessed: its natural to want to be with your own kind its human nature\n",
      "Vocab coverage: 8/13 tokens\n",
      "Raw logits: [[11.780037 -9.817939]]\n",
      "Probabilities: [[1.0000000e+00 4.1698256e-10]]\n",
      "Prediction: {'label': 'Non-Hate Speech', 'score': 1.0}\n"
     ]
    },
    {
     "name": "stderr",
     "output_type": "stream",
     "text": [
      "127.0.0.1 - - [28/Feb/2025 15:58:17] \"POST /predict_lstm_cnn HTTP/1.1\" 200 -\n"
     ]
    },
    {
     "name": "stdout",
     "output_type": "stream",
     "text": [
      "Input text: It's natural to want to be with your own kind, it's human nature.\n",
      "Preprocessed: its natural to want to be with your own kind its human nature\n",
      "Vocab coverage: 8/13 tokens\n",
      "Raw logits: [[11.780037 -9.817939]]\n",
      "Probabilities: [[1.0000000e+00 4.1698256e-10]]\n",
      "Prediction: {'label': 'Non-Hate Speech', 'score': 1.0}\n"
     ]
    }
   ],
   "source": [
    "from flask import Flask, request, jsonify, current_app\n",
    "import torch\n",
    "import torch.nn as nn  # Missing import for nn\n",
    "import torch.nn.functional as F\n",
    "import re\n",
    "import string\n",
    "import pickle\n",
    "import os  # Missing import\n",
    "from flask_cors import CORS\n",
    "\n",
    "app = Flask(__name__)\n",
    "CORS(app)\n",
    "\n",
    "# Device configuration\n",
    "device = torch.device('cuda' if torch.cuda.is_available() else 'cpu')\n",
    "\n",
    "# Model definition\n",
    "class LSTM_CNN(nn.Module):\n",
    "    def __init__(self, vocab_size, embed_dim, lstm_hidden_dim, cnn_hidden_dim, num_classes, dropout=0.5):\n",
    "        super(LSTM_CNN, self).__init__()\n",
    "        self.embedding = nn.Embedding(vocab_size, embed_dim, padding_idx=0)\n",
    "        self.lstm = nn.LSTM(embed_dim, lstm_hidden_dim, batch_first=True, bidirectional=True)\n",
    "        self.conv1d = nn.Conv1d(lstm_hidden_dim*2, cnn_hidden_dim, kernel_size=3, padding=1)\n",
    "        self.pool = nn.AdaptiveMaxPool1d(1)\n",
    "        self.dropout = nn.Dropout(dropout)\n",
    "        self.fc = nn.Linear(cnn_hidden_dim, num_classes)\n",
    "    \n",
    "    def forward(self, x):\n",
    "        # Handle both float and long inputs\n",
    "        if x.dtype == torch.float32:\n",
    "            x = x.long()\n",
    "        \n",
    "        # Embedding layer\n",
    "        embedded = self.embedding(x)  # [batch_size, seq_len, embed_dim]\n",
    "        \n",
    "        # LSTM layer\n",
    "        lstm_out, _ = self.lstm(embedded)  # [batch_size, seq_len, lstm_hidden_dim*2]\n",
    "        \n",
    "        # Reshape for CNN: [batch_size, lstm_hidden_dim*2, seq_len]\n",
    "        lstm_out = lstm_out.permute(0, 2, 1)\n",
    "        \n",
    "        # Apply CNN\n",
    "        conv_out = F.relu(self.conv1d(lstm_out))  # [batch_size, cnn_hidden_dim, seq_len]\n",
    "        \n",
    "        # Pooling\n",
    "        pooled = self.pool(conv_out).squeeze(-1)  # [batch_size, cnn_hidden_dim]\n",
    "        \n",
    "        # Dropout and final classification\n",
    "        dropped = self.dropout(pooled)\n",
    "        output = self.fc(dropped)  # [batch_size, num_classes]\n",
    "        \n",
    "        return output\n",
    "\n",
    "# Load model and vocab outside the request context\n",
    "model_deploy = None\n",
    "vocab = None\n",
    "\n",
    "# Preprocess text function\n",
    "def preprocess_text(text):\n",
    "    # Remove URLs\n",
    "    text = re.sub(r'http\\S+', '', text)\n",
    "    # Remove mentions (@user)\n",
    "    text = re.sub(r'@\\w+', '', text)\n",
    "    # Remove hashtags (#hashtag)\n",
    "    text = re.sub(r'#\\w+', '', text)\n",
    "    # Remove numbers\n",
    "    text = re.sub(r'\\d+', '', text)\n",
    "    # Remove punctuation\n",
    "    text = text.translate(str.maketrans('', '', string.punctuation))\n",
    "    # Convert to lowercase\n",
    "    text = text.lower()\n",
    "    return text\n",
    "\n",
    "# Function to convert text to sequence\n",
    "def text_to_sequence(text, vocab_dict, max_len=100):\n",
    "    tokens = text.split()\n",
    "    sequence = [vocab_dict.get(token, 1) for token in tokens]  # Use 1 (<UNK>) for unknown words\n",
    "    # Truncate or pad to fixed length\n",
    "    if len(sequence) > max_len:\n",
    "        sequence = sequence[:max_len]\n",
    "    else:\n",
    "        sequence += [0] * (max_len - len(sequence))\n",
    "    return sequence\n",
    "\n",
    "# Replace before_first_request with a direct initialization function\n",
    "def init_app():\n",
    "    global model_deploy, vocab\n",
    "    try:\n",
    "        # Get current notebook directory and construct paths\n",
    "        current_dir = os.path.abspath('.')\n",
    "        vocab_path = os.path.join(current_dir, 'vocab.pkl')\n",
    "        model_path = os.path.join(current_dir, 'hate_speech_model_lstm_cnn.pth')\n",
    "        \n",
    "        print(f\"Attempting to load vocabulary from: {vocab_path}\")\n",
    "        if not os.path.exists(vocab_path):\n",
    "            print(f\"ERROR: Vocabulary file not found at {vocab_path}\")\n",
    "            return False\n",
    "            \n",
    "        # Load vocabulary from file\n",
    "        with open(vocab_path, 'rb') as f:\n",
    "            vocab = pickle.load(f)\n",
    "        print(f\"Vocabulary loaded successfully with {len(vocab)} entries\")\n",
    "        \n",
    "        print(f\"Attempting to load model from: {model_path}\")\n",
    "        if not os.path.exists(model_path):\n",
    "            print(f\"ERROR: Model file not found at {model_path}\")\n",
    "            return False\n",
    "        \n",
    "        # Load model parameters\n",
    "        model_info = torch.load(model_path, map_location=device)\n",
    "        \n",
    "        # Initialize model using parameters from the saved model\n",
    "        model_deploy = LSTM_CNN(\n",
    "            model_info['vocab_size'],\n",
    "            model_info['embed_dim'],\n",
    "            model_info['lstm_hidden_dim'],\n",
    "            model_info['cnn_hidden_dim'],\n",
    "            model_info['num_classes'],\n",
    "            model_info['dropout']\n",
    "        )\n",
    "        model_deploy.load_state_dict(model_info['state_dict'])\n",
    "        model_deploy.to(device)\n",
    "        model_deploy.eval()\n",
    "        \n",
    "        print(\"Model and vocabulary loaded successfully!\")\n",
    "        return True\n",
    "    except Exception as e:\n",
    "        import traceback\n",
    "        print(f\"Error loading model or vocabulary: {e}\")\n",
    "        print(traceback.format_exc())  # Print full traceback for debugging\n",
    "        return False\n",
    "\n",
    "# Initialize at startup\n",
    "if not init_app():\n",
    "    raise RuntimeError(\"Failed to initialize model or vocabulary\")\n",
    "\n",
    "@app.route('/')\n",
    "def index():\n",
    "    return \"Hate Speech Detection API\"\n",
    "\n",
    "@app.route('/predict_lstm_cnn', methods=['POST'])\n",
    "def predict_lstm_cnn():\n",
    "    data = request.json\n",
    "    text = data['text']\n",
    "    print(f\"Input text: {text}\")\n",
    "    \n",
    "    # Preprocess text\n",
    "    text_processed = preprocess_text(text)\n",
    "    print(f\"Preprocessed: {text_processed}\")\n",
    "    \n",
    "    # Check vocabulary coverage\n",
    "    tokens = text_processed.split()\n",
    "    known_tokens = [t for t in tokens if t in vocab]\n",
    "    print(f\"Vocab coverage: {len(known_tokens)}/{len(tokens)} tokens\")\n",
    "    \n",
    "    # Convert to sequence\n",
    "    sequence = text_to_sequence(text_processed, vocab, max_len=100)\n",
    "    sequence_tensor = torch.tensor([sequence], dtype=torch.long).to(device)\n",
    "    \n",
    "    # Get prediction with detailed output\n",
    "    with torch.no_grad():\n",
    "        outputs = model_deploy(sequence_tensor)\n",
    "        logits = outputs.detach().cpu().numpy()\n",
    "        print(f\"Raw logits: {logits}\")\n",
    "        \n",
    "        pred_probs = F.softmax(outputs, dim=1)\n",
    "        print(f\"Probabilities: {pred_probs.detach().cpu().numpy()}\")\n",
    "        \n",
    "        pred_label = torch.argmax(pred_probs, dim=1).item()\n",
    "    \n",
    "    result = {\n",
    "        'label': ['Non-Hate Speech', 'Hate Speech'][pred_label],\n",
    "        'score': float(pred_probs[0][pred_label])\n",
    "    }\n",
    "    \n",
    "    print(f\"Prediction: {result}\")\n",
    "    return jsonify(result)\n",
    "\n",
    "if __name__ == '__main__':\n",
    "    print(\"Starting Flask API server...\")\n",
    "    app.run(debug=False, threaded=True)  # Use threaded=True to avoid blocking"
   ]
  },
  {
   "cell_type": "code",
   "execution_count": null,
   "metadata": {},
   "outputs": [
    {
     "name": "stdout",
     "output_type": "stream",
     "text": [
      "Error: Cannot connect to the server. Make sure the Flask app is running.\n"
     ]
    }
   ],
   "source": [
    "import requests\n",
    "import json\n",
    "\n",
    "# Sample text for testing\n",
    "test_text = {\"text\": \"I hate that idiot and his stupid ideas\"}\n",
    "\n",
    "# Make a request to your API\n",
    "try:\n",
    "    response = requests.post('http://127.0.0.1:5000/predict_lstm_cnn', \n",
    "                           json=test_text,\n",
    "                           timeout=5)\n",
    "    \n",
    "    if response.status_code == 200:\n",
    "        result = response.json()\n",
    "        print(f\"Prediction: {result['label']}\")\n",
    "        print(f\"Confidence: {result['score']:.4f}\")\n",
    "    else:\n",
    "        print(f\"Error: Received status code {response.status_code}\")\n",
    "        print(response.text)\n",
    "except requests.exceptions.ConnectionError:\n",
    "    print(\"Error: Could not connect to the server. Make sure it's running.\")\n",
    "except Exception as e:\n",
    "    print(f\"Error occurred: {str(e)}\")"
   ]
  }
 ],
 "metadata": {
  "kernelspec": {
   "display_name": "Python 3",
   "language": "python",
   "name": "python3"
  },
  "language_info": {
   "codemirror_mode": {
    "name": "ipython",
    "version": 3
   },
   "file_extension": ".py",
   "mimetype": "text/x-python",
   "name": "python",
   "nbconvert_exporter": "python",
   "pygments_lexer": "ipython3",
   "version": "3.10.6"
  }
 },
 "nbformat": 4,
 "nbformat_minor": 2
}
